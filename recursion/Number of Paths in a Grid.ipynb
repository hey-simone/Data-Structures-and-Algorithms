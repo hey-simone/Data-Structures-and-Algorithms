{
 "cells": [
  {
   "cell_type": "markdown",
   "metadata": {},
   "source": [
    "# Problem: Find the number of paths in a grid from the top left to the bottom right."
   ]
  },
  {
   "cell_type": "code",
   "execution_count": 1,
   "metadata": {
    "collapsed": true
   },
   "outputs": [],
   "source": [
    "# 2\n",
    "matrix1 = [[0,0,0],\n",
    "           [0,0,1],\n",
    "           [1,0,0]]"
   ]
  },
  {
   "cell_type": "code",
   "execution_count": 2,
   "metadata": {
    "collapsed": true
   },
   "outputs": [],
   "source": [
    "# 30\n",
    "matrix2 = [[0,0,0,1,0,0],\n",
    "           [0,0,1,0,0,0],\n",
    "           [0,0,0,0,1,0],\n",
    "           [1,1,0,0,0,1],\n",
    "           [0,0,1,0,0,0],\n",
    "           [0,1,0,0,0,0]]"
   ]
  },
  {
   "cell_type": "code",
   "execution_count": 3,
   "metadata": {
    "collapsed": true
   },
   "outputs": [],
   "source": [
    "# 27\n",
    "matrix3 = [[0,0,0,0,0,0,0,0],\n",
    "           [0,0,1,0,0,0,1,0],\n",
    "           [0,0,0,0,1,0,0,0],\n",
    "           [1,0,1,0,0,1,0,0],\n",
    "           [0,0,1,0,0,0,0,0],\n",
    "           [0,0,0,1,1,0,1,0],\n",
    "           [0,1,0,0,0,1,0,0],\n",
    "           [0,0,0,0,0,0,0,0]]"
   ]
  },
  {
   "cell_type": "markdown",
   "metadata": {},
   "source": [
    "# Recursive "
   ]
  },
  {
   "cell_type": "code",
   "execution_count": 4,
   "metadata": {
    "collapsed": true
   },
   "outputs": [],
   "source": [
    "# the number of paths from one box = number of paths from right box + \n",
    "# number of paths from bottom box\n",
    "\n",
    "def number_of_paths(matrix, row, col):\n",
    "    \n",
    "    if row<len(matrix) and col < len(matrix[0]):\n",
    "    \n",
    "        # base case\n",
    "        if row == len(matrix)-1 and col == len(matrix[0])-1: \n",
    "            return 1 \n",
    "        elif matrix[row][col] == 1: \n",
    "            return 0\n",
    "        else:\n",
    "            paths = number_of_paths(matrix, row+1, col) + number_of_paths(matrix, row, col+1)\n",
    "            #print(row, col, paths)\n",
    "            return paths\n",
    "    else: \n",
    "        #print(row, col)\n",
    "        return 0"
   ]
  },
  {
   "cell_type": "code",
   "execution_count": 5,
   "metadata": {},
   "outputs": [
    {
     "name": "stdout",
     "output_type": "stream",
     "text": [
      "CPU times: user 43 µs, sys: 1e+03 ns, total: 44 µs\n",
      "Wall time: 52 µs\n"
     ]
    },
    {
     "data": {
      "text/plain": [
       "2"
      ]
     },
     "execution_count": 5,
     "metadata": {},
     "output_type": "execute_result"
    }
   ],
   "source": [
    "%time number_of_paths(matrix1, 0, 0)"
   ]
  },
  {
   "cell_type": "code",
   "execution_count": 6,
   "metadata": {},
   "outputs": [
    {
     "name": "stdout",
     "output_type": "stream",
     "text": [
      "CPU times: user 328 µs, sys: 1 µs, total: 329 µs\n",
      "Wall time: 339 µs\n"
     ]
    },
    {
     "data": {
      "text/plain": [
       "30"
      ]
     },
     "execution_count": 6,
     "metadata": {},
     "output_type": "execute_result"
    }
   ],
   "source": [
    "%time number_of_paths(matrix2, 0, 0)"
   ]
  },
  {
   "cell_type": "code",
   "execution_count": 7,
   "metadata": {
    "scrolled": true
   },
   "outputs": [
    {
     "name": "stdout",
     "output_type": "stream",
     "text": [
      "CPU times: user 748 µs, sys: 1e+03 ns, total: 749 µs\n",
      "Wall time: 760 µs\n"
     ]
    },
    {
     "data": {
      "text/plain": [
       "27"
      ]
     },
     "execution_count": 7,
     "metadata": {},
     "output_type": "execute_result"
    }
   ],
   "source": [
    "%time number_of_paths(matrix3, 0, 0)"
   ]
  },
  {
   "cell_type": "markdown",
   "metadata": {},
   "source": [
    "# Memoised"
   ]
  },
  {
   "cell_type": "code",
   "execution_count": 8,
   "metadata": {
    "collapsed": true
   },
   "outputs": [],
   "source": [
    "def number_of_paths_memo(matrix, row, col):\n",
    "    \n",
    "    # memo table\n",
    "    paths = [[None]*len(matrix[0]) for _ in range(len(matrix))]    \n",
    "    \n",
    "    return number_of_paths_memo_rec(matrix, row, col, paths)\n",
    "    \n",
    "    \n",
    "def number_of_paths_memo_rec(matrix, row, col, paths):\n",
    "    \n",
    "    if row<len(matrix) and col < len(matrix[0]):\n",
    "    \n",
    "        # base case\n",
    "        if row == len(matrix)-1 and col == len(matrix[0])-1: \n",
    "            return 1 \n",
    "        elif matrix[row][col] == 1: \n",
    "            return 0\n",
    "        else:\n",
    "            if paths[row][col] == None:\n",
    "                paths[row][col] = ( number_of_paths_memo_rec(matrix, row+1, col, paths) \n",
    "                                    + number_of_paths_memo_rec(matrix, row, col+1, paths))\n",
    "                return paths[row][col]\n",
    "            else: \n",
    "                return paths[row][col]\n",
    "    else: \n",
    "        return 0"
   ]
  },
  {
   "cell_type": "code",
   "execution_count": 9,
   "metadata": {},
   "outputs": [
    {
     "name": "stdout",
     "output_type": "stream",
     "text": [
      "CPU times: user 59 µs, sys: 1e+03 ns, total: 60 µs\n",
      "Wall time: 69.1 µs\n"
     ]
    },
    {
     "data": {
      "text/plain": [
       "2"
      ]
     },
     "execution_count": 9,
     "metadata": {},
     "output_type": "execute_result"
    }
   ],
   "source": [
    "%time number_of_paths_memo(matrix1, 0, 0)"
   ]
  },
  {
   "cell_type": "code",
   "execution_count": 10,
   "metadata": {},
   "outputs": [
    {
     "name": "stdout",
     "output_type": "stream",
     "text": [
      "CPU times: user 68 µs, sys: 1 µs, total: 69 µs\n",
      "Wall time: 73 µs\n"
     ]
    },
    {
     "data": {
      "text/plain": [
       "30"
      ]
     },
     "execution_count": 10,
     "metadata": {},
     "output_type": "execute_result"
    }
   ],
   "source": [
    "%time number_of_paths_memo(matrix2, 0, 0)"
   ]
  },
  {
   "cell_type": "code",
   "execution_count": 11,
   "metadata": {},
   "outputs": [
    {
     "name": "stdout",
     "output_type": "stream",
     "text": [
      "CPU times: user 234 µs, sys: 1e+03 ns, total: 235 µs\n",
      "Wall time: 246 µs\n"
     ]
    },
    {
     "data": {
      "text/plain": [
       "27"
      ]
     },
     "execution_count": 11,
     "metadata": {},
     "output_type": "execute_result"
    }
   ],
   "source": [
    "%time number_of_paths_memo(matrix3, 0, 0)"
   ]
  }
 ],
 "metadata": {
  "kernelspec": {
   "display_name": "Python 3",
   "language": "python",
   "name": "python3"
  },
  "language_info": {
   "codemirror_mode": {
    "name": "ipython",
    "version": 3
   },
   "file_extension": ".py",
   "mimetype": "text/x-python",
   "name": "python",
   "nbconvert_exporter": "python",
   "pygments_lexer": "ipython3",
   "version": "3.6.1"
  }
 },
 "nbformat": 4,
 "nbformat_minor": 2
}
