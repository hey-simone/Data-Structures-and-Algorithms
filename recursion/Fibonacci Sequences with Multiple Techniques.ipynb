{
 "cells": [
  {
   "cell_type": "markdown",
   "metadata": {},
   "source": [
    "# Problem Description"
   ]
  },
  {
   "cell_type": "markdown",
   "metadata": {},
   "source": [
    "- A sequence of numbers starting with 0 and 1 \n",
    "- Each number is the sum of the two previous numbers\n",
    "- 0 1 1 2 3 5 8 13 21 ...\n",
    "- This is a good way to demonstrate various ways of doing recursion"
   ]
  },
  {
   "cell_type": "markdown",
   "metadata": {},
   "source": [
    "# Brute Force\n",
    "- This is the most basic way to implement a Fibonaci Sequence\n",
    "- Clearest implementation vs the other methods\n",
    "\n",
    "### Efficiency\n",
    "- It is not the most efficient though because multiple calls are made to recalculate the same values.\n",
    "- Time complexity is exponential O(2^n) or O(1.6^n) more specifically\n",
    "- Thus can be very inefficient for higher numbers.\n",
    "- The recursion tree makes this clearer. \n",
    "\n",
    "## Top Down Approach \n",
    "- We start at the number to be found then go down the recursion stack until the base cases then use the base case solutions to get the solutions by going back up the stack similar to what would be done in a more explicit bottom up approach\n",
    "- The base cases are needed to end the recursion"
   ]
  },
  {
   "cell_type": "code",
   "execution_count": 1,
   "metadata": {
    "collapsed": true
   },
   "outputs": [],
   "source": [
    "def fib_rec(n):\n",
    "    \"\"\"Computes the nth Fibonacci number using recursion\"\"\"\n",
    "    \n",
    "    # base cases\n",
    "    if n == 0 or n == 1: return n\n",
    "    \n",
    "    return fib_rec(n-1) + fib_rec(n-2)"
   ]
  },
  {
   "cell_type": "code",
   "execution_count": 2,
   "metadata": {},
   "outputs": [
    {
     "name": "stdout",
     "output_type": "stream",
     "text": [
      "CPU times: user 39 µs, sys: 4 µs, total: 43 µs\n",
      "Wall time: 120 µs\n"
     ]
    },
    {
     "data": {
      "text/plain": [
       "5"
      ]
     },
     "execution_count": 2,
     "metadata": {},
     "output_type": "execute_result"
    }
   ],
   "source": [
    "% time fib_rec(5)"
   ]
  },
  {
   "cell_type": "code",
   "execution_count": 3,
   "metadata": {},
   "outputs": [
    {
     "name": "stdout",
     "output_type": "stream",
     "text": [
      "CPU times: user 70 µs, sys: 2 µs, total: 72 µs\n",
      "Wall time: 86.1 µs\n"
     ]
    },
    {
     "data": {
      "text/plain": [
       "13"
      ]
     },
     "execution_count": 3,
     "metadata": {},
     "output_type": "execute_result"
    }
   ],
   "source": [
    "% time fib_rec(7)"
   ]
  },
  {
   "cell_type": "code",
   "execution_count": 4,
   "metadata": {
    "scrolled": true
   },
   "outputs": [
    {
     "name": "stdout",
     "output_type": "stream",
     "text": [
      "CPU times: user 2.18 s, sys: 46.9 ms, total: 2.22 s\n",
      "Wall time: 2.53 s\n"
     ]
    },
    {
     "data": {
      "text/plain": [
       "832040"
      ]
     },
     "execution_count": 4,
     "metadata": {},
     "output_type": "execute_result"
    }
   ],
   "source": [
    "# lags\n",
    "% time fib_rec(30)"
   ]
  },
  {
   "cell_type": "code",
   "execution_count": null,
   "metadata": {
    "scrolled": false
   },
   "outputs": [],
   "source": [
    "# very slow\n",
    "% time fib_rec(60)"
   ]
  },
  {
   "cell_type": "markdown",
   "metadata": {},
   "source": [
    "# Memoisation and Dynamic Programming"
   ]
  },
  {
   "cell_type": "markdown",
   "metadata": {},
   "source": [
    "- Memo means remember\n",
    "- Caching of already calculated values is used to improve performance\n",
    "- Called Dynamic Programming to conceal the type of research being done by Bellman\n",
    "- The name isn't really relevant\n",
    "- Requires a little more thought than the brute force example"
   ]
  },
  {
   "cell_type": "markdown",
   "metadata": {},
   "source": [
    "## Bottom-Up Approach\n",
    "- This is a bottom-up approach which can be easier to understand\n",
    "- We start with the base cases and find each subsequent value from there\n",
    "- An additional optimisation is added where the previous values are remembers for subsequent calls and new values are only calculated if not calculated before. This adds to the space complexity though.\n",
    "- Times are much faster with this implementation than the one used above"
   ]
  },
  {
   "cell_type": "code",
   "execution_count": 5,
   "metadata": {
    "collapsed": true
   },
   "outputs": [],
   "source": [
    "memo = [0, 1]\n",
    "\n",
    "def fib_memo(n):\n",
    "    \n",
    "    if n == 0 or n == 1: return memo[n]\n",
    "    \n",
    "    for num in range(2, n+1):\n",
    "        # this is so you don't recalculate what was there before\n",
    "        if not len(memo)-1 >= num:\n",
    "            memo.append(memo[num-1] + memo[num-2])\n",
    "    \n",
    "    #memo = [0, 1] # this has to be reset or it will not work the second time round\n",
    "    \n",
    "    return memo[n]"
   ]
  },
  {
   "cell_type": "code",
   "execution_count": 6,
   "metadata": {},
   "outputs": [
    {
     "name": "stdout",
     "output_type": "stream",
     "text": [
      "CPU times: user 24 µs, sys: 2 µs, total: 26 µs\n",
      "Wall time: 33.6 µs\n"
     ]
    },
    {
     "data": {
      "text/plain": [
       "5"
      ]
     },
     "execution_count": 6,
     "metadata": {},
     "output_type": "execute_result"
    }
   ],
   "source": [
    "% time fib_memo(5)"
   ]
  },
  {
   "cell_type": "code",
   "execution_count": 7,
   "metadata": {},
   "outputs": [
    {
     "data": {
      "text/plain": [
       "[0, 1, 1, 2, 3, 5]"
      ]
     },
     "execution_count": 7,
     "metadata": {},
     "output_type": "execute_result"
    }
   ],
   "source": [
    "memo"
   ]
  },
  {
   "cell_type": "code",
   "execution_count": 8,
   "metadata": {},
   "outputs": [
    {
     "name": "stdout",
     "output_type": "stream",
     "text": [
      "CPU times: user 25 µs, sys: 2 µs, total: 27 µs\n",
      "Wall time: 35 µs\n"
     ]
    },
    {
     "data": {
      "text/plain": [
       "13"
      ]
     },
     "execution_count": 8,
     "metadata": {},
     "output_type": "execute_result"
    }
   ],
   "source": [
    "% time fib_memo(7)"
   ]
  },
  {
   "cell_type": "code",
   "execution_count": 9,
   "metadata": {},
   "outputs": [
    {
     "name": "stdout",
     "output_type": "stream",
     "text": [
      "CPU times: user 107 µs, sys: 2 µs, total: 109 µs\n",
      "Wall time: 126 µs\n"
     ]
    },
    {
     "data": {
      "text/plain": [
       "832040"
      ]
     },
     "execution_count": 9,
     "metadata": {},
     "output_type": "execute_result"
    }
   ],
   "source": [
    "% time fib_memo(30)"
   ]
  },
  {
   "cell_type": "code",
   "execution_count": 10,
   "metadata": {},
   "outputs": [
    {
     "name": "stdout",
     "output_type": "stream",
     "text": [
      "CPU times: user 82 µs, sys: 1 µs, total: 83 µs\n",
      "Wall time: 92 µs\n"
     ]
    },
    {
     "data": {
      "text/plain": [
       "1548008755920"
      ]
     },
     "execution_count": 10,
     "metadata": {},
     "output_type": "execute_result"
    }
   ],
   "source": [
    "% time fib_memo(60)"
   ]
  },
  {
   "cell_type": "markdown",
   "metadata": {},
   "source": [
    "# Iterative Approach"
   ]
  },
  {
   "cell_type": "markdown",
   "metadata": {},
   "source": [
    "- Optimisation to the above approach if the entire array is recalculated every time\n",
    "- Only the previous two numbers need to considered so the \n",
    "- Again much faster than the bruter force solution"
   ]
  },
  {
   "cell_type": "code",
   "execution_count": 11,
   "metadata": {
    "collapsed": true
   },
   "outputs": [],
   "source": [
    "def fib_iter(n):\n",
    "    if n == 0 or n == 1: return n\n",
    "    \n",
    "    a = 0\n",
    "    b = 1\n",
    "    \n",
    "    # Unpacking tuples\n",
    "    for num in range(2,n):\n",
    "        a,b = b, a+b\n",
    "        \n",
    "    return a+b"
   ]
  },
  {
   "cell_type": "code",
   "execution_count": 12,
   "metadata": {},
   "outputs": [
    {
     "name": "stdout",
     "output_type": "stream",
     "text": [
      "CPU times: user 15 µs, sys: 1 µs, total: 16 µs\n",
      "Wall time: 26 µs\n"
     ]
    },
    {
     "data": {
      "text/plain": [
       "5"
      ]
     },
     "execution_count": 12,
     "metadata": {},
     "output_type": "execute_result"
    }
   ],
   "source": [
    "%time fib_iter(5)"
   ]
  },
  {
   "cell_type": "code",
   "execution_count": 13,
   "metadata": {},
   "outputs": [
    {
     "name": "stdout",
     "output_type": "stream",
     "text": [
      "CPU times: user 16 µs, sys: 2 µs, total: 18 µs\n",
      "Wall time: 26 µs\n"
     ]
    },
    {
     "data": {
      "text/plain": [
       "13"
      ]
     },
     "execution_count": 13,
     "metadata": {},
     "output_type": "execute_result"
    }
   ],
   "source": [
    "%time fib_iter(7)"
   ]
  },
  {
   "cell_type": "code",
   "execution_count": 14,
   "metadata": {},
   "outputs": [
    {
     "name": "stdout",
     "output_type": "stream",
     "text": [
      "CPU times: user 23 µs, sys: 2 µs, total: 25 µs\n",
      "Wall time: 33.1 µs\n"
     ]
    },
    {
     "data": {
      "text/plain": [
       "832040"
      ]
     },
     "execution_count": 14,
     "metadata": {},
     "output_type": "execute_result"
    }
   ],
   "source": [
    "%time fib_iter(30)"
   ]
  },
  {
   "cell_type": "code",
   "execution_count": 15,
   "metadata": {},
   "outputs": [
    {
     "name": "stdout",
     "output_type": "stream",
     "text": [
      "CPU times: user 31 µs, sys: 1e+03 ns, total: 32 µs\n",
      "Wall time: 43.9 µs\n"
     ]
    },
    {
     "data": {
      "text/plain": [
       "1548008755920"
      ]
     },
     "execution_count": 15,
     "metadata": {},
     "output_type": "execute_result"
    }
   ],
   "source": [
    "% time fib_iter(60)"
   ]
  }
 ],
 "metadata": {
  "kernelspec": {
   "display_name": "Python 3",
   "language": "python",
   "name": "python3"
  },
  "language_info": {
   "codemirror_mode": {
    "name": "ipython",
    "version": 3
   },
   "file_extension": ".py",
   "mimetype": "text/x-python",
   "name": "python",
   "nbconvert_exporter": "python",
   "pygments_lexer": "ipython3",
   "version": "3.6.1"
  }
 },
 "nbformat": 4,
 "nbformat_minor": 2
}
