{
 "cells": [
  {
   "cell_type": "code",
   "execution_count": 1,
   "metadata": {
    "collapsed": true
   },
   "outputs": [],
   "source": [
    "# database simulation\n",
    "database = {1:\"Toronto\", 2:\"Hong Kong\", 3:\"Singapore\", 4:\"London\"}"
   ]
  },
  {
   "cell_type": "code",
   "execution_count": 2,
   "metadata": {
    "collapsed": true
   },
   "outputs": [],
   "source": [
    "class Node(object):\n",
    "    def __init__(self, key, data):\n",
    "        self.key = key\n",
    "        self.data = data\n",
    "        self.next = None\n",
    "        self.prev = None\n",
    "            \n",
    "class LRUCache(object):\n",
    "    \n",
    "    def __init__(self):\n",
    "        self.max_size = 3\n",
    "        self.size = 0\n",
    "        self.hash_map = {}\n",
    "        self.list_head = None\n",
    "        self.list_tail = None\n",
    "    \n",
    "    def retrieve_data(self, key):\n",
    "        # handle checking the cache size in here\n",
    "        \n",
    "        # check if the item is in the cache\n",
    "        if key in self.hash_map:\n",
    "            # take it out from here by the key\n",
    "            data = self.hash_map[key]\n",
    "            # put it to the front of the linked list\n",
    "            self.move_node_to_front(key)\n",
    "                        \n",
    "        else:\n",
    "            # go to the database and take it out\n",
    "            data = database[key]\n",
    "            \n",
    "            # put it in the front of the linked list\n",
    "            # if the cache is full, remove the tail first\n",
    "            if self.size >= self.max_size:\n",
    "                self.remove_node()\n",
    "            self.prepend(key, data)\n",
    "                    \n",
    "        return key, data\n",
    "    \n",
    "    def prepend(self, key, data):\n",
    "        node = Node(key, data)\n",
    "        self.size += 1\n",
    "        \n",
    "        if self.list_head == None:\n",
    "            self.list_head = node\n",
    "            self.list_tail = node\n",
    "        else:\n",
    "            node.next = self.list_head\n",
    "            self.list_head.prev = node\n",
    "            self.list_head = node\n",
    "        \n",
    "        # put new node in the hash table\n",
    "        self.hash_map[key] = node\n",
    "        print(self.hash_map)\n",
    "        \n",
    "    def move_node_to_front(self, key):\n",
    "        \n",
    "        \n",
    "        node = self.hash_map[key]\n",
    "        node.prev.next = node.next\n",
    "        \n",
    "        node.next = self.list_head\n",
    "        self.list_head = node\n",
    "        \n",
    "        # access this by the hash map\n",
    "        # don't need to alter the hash map\n",
    "        \n",
    "        \n",
    "    def remove_node(self):\n",
    "        # access this by the hash map\n",
    "        # remove the item from the hash map\n",
    "        # this removes the tail because the cache is full\n",
    "        \n",
    "        key = self.list_tail.key\n",
    "        \n",
    "        self.list_tail = self.list_tail.prev\n",
    "        self.list_tail.next = None\n",
    "        \n",
    "        del self.hash_map[key] \n",
    "        \n",
    "        self.size -= 1\n",
    "        pass\n",
    "    \n",
    "    def viz_cache(self):\n",
    "        \"\"\" Show the hashmap and the linked list\n",
    "        \"\"\"\n",
    "        print(self.hash_map)\n",
    "        self.print_list()\n",
    "\n",
    "        \n",
    "    def print_list(self):\n",
    "        \n",
    "        pointer = self.list_head\n",
    "        print(\"The linked list:\")\n",
    "        \n",
    "        if self.list_head == None:\n",
    "            print(\"The list is empty.\")\n",
    "            return\n",
    "        elif self.list_head == self.list_tail:\n",
    "            print(self.list_head.key, self.list_head.data)\n",
    "        else:\n",
    "            print(pointer.key, pointer.data)\n",
    "            \n",
    "            while pointer.next:\n",
    "                print(pointer.next.key, pointer.next.data)\n",
    "                pointer = pointer.next\n",
    "        \n",
    "        print(\"End linked list\")"
   ]
  },
  {
   "cell_type": "code",
   "execution_count": 3,
   "metadata": {
    "collapsed": true
   },
   "outputs": [],
   "source": [
    "cache = LRUCache()"
   ]
  },
  {
   "cell_type": "code",
   "execution_count": 4,
   "metadata": {},
   "outputs": [
    {
     "data": {
      "text/plain": [
       "0"
      ]
     },
     "execution_count": 4,
     "metadata": {},
     "output_type": "execute_result"
    }
   ],
   "source": [
    "cache.size"
   ]
  },
  {
   "cell_type": "code",
   "execution_count": 5,
   "metadata": {},
   "outputs": [
    {
     "name": "stdout",
     "output_type": "stream",
     "text": [
      "{}\n",
      "The linked list:\n",
      "The list is empty.\n"
     ]
    }
   ],
   "source": [
    "cache.viz_cache()"
   ]
  },
  {
   "cell_type": "code",
   "execution_count": 6,
   "metadata": {},
   "outputs": [
    {
     "name": "stdout",
     "output_type": "stream",
     "text": [
      "{2: <__main__.Node object at 0x10d628198>}\n"
     ]
    },
    {
     "data": {
      "text/plain": [
       "(2, 'Hong Kong')"
      ]
     },
     "execution_count": 6,
     "metadata": {},
     "output_type": "execute_result"
    }
   ],
   "source": [
    "# retrieving an item\n",
    "cache.retrieve_data(2)"
   ]
  },
  {
   "cell_type": "code",
   "execution_count": 7,
   "metadata": {},
   "outputs": [
    {
     "data": {
      "text/plain": [
       "1"
      ]
     },
     "execution_count": 7,
     "metadata": {},
     "output_type": "execute_result"
    }
   ],
   "source": [
    "cache.size"
   ]
  },
  {
   "cell_type": "code",
   "execution_count": 8,
   "metadata": {
    "scrolled": false
   },
   "outputs": [
    {
     "name": "stdout",
     "output_type": "stream",
     "text": [
      "{2: <__main__.Node object at 0x10d628198>}\n",
      "The linked list:\n",
      "2 Hong Kong\n",
      "End linked list\n"
     ]
    }
   ],
   "source": [
    "cache.viz_cache()"
   ]
  },
  {
   "cell_type": "code",
   "execution_count": 9,
   "metadata": {},
   "outputs": [
    {
     "name": "stdout",
     "output_type": "stream",
     "text": [
      "{2: <__main__.Node object at 0x10d628198>, 4: <__main__.Node object at 0x10d6289b0>}\n"
     ]
    },
    {
     "data": {
      "text/plain": [
       "(4, 'London')"
      ]
     },
     "execution_count": 9,
     "metadata": {},
     "output_type": "execute_result"
    }
   ],
   "source": [
    "# retrieving another item\n",
    "cache.retrieve_data(4)"
   ]
  },
  {
   "cell_type": "code",
   "execution_count": 10,
   "metadata": {},
   "outputs": [
    {
     "data": {
      "text/plain": [
       "2"
      ]
     },
     "execution_count": 10,
     "metadata": {},
     "output_type": "execute_result"
    }
   ],
   "source": [
    "cache.size"
   ]
  },
  {
   "cell_type": "code",
   "execution_count": 11,
   "metadata": {},
   "outputs": [
    {
     "data": {
      "text/plain": [
       "2"
      ]
     },
     "execution_count": 11,
     "metadata": {},
     "output_type": "execute_result"
    }
   ],
   "source": [
    "cache.list_tail.key"
   ]
  },
  {
   "cell_type": "code",
   "execution_count": 12,
   "metadata": {},
   "outputs": [
    {
     "data": {
      "text/plain": [
       "4"
      ]
     },
     "execution_count": 12,
     "metadata": {},
     "output_type": "execute_result"
    }
   ],
   "source": [
    "cache.list_head.key"
   ]
  },
  {
   "cell_type": "code",
   "execution_count": 13,
   "metadata": {
    "scrolled": false
   },
   "outputs": [
    {
     "name": "stdout",
     "output_type": "stream",
     "text": [
      "{2: <__main__.Node object at 0x10d628198>, 4: <__main__.Node object at 0x10d6289b0>}\n",
      "The linked list:\n",
      "4 London\n",
      "2 Hong Kong\n",
      "End linked list\n"
     ]
    }
   ],
   "source": [
    "cache.viz_cache()"
   ]
  },
  {
   "cell_type": "code",
   "execution_count": 14,
   "metadata": {},
   "outputs": [
    {
     "name": "stdout",
     "output_type": "stream",
     "text": [
      "{2: <__main__.Node object at 0x10d628198>, 4: <__main__.Node object at 0x10d6289b0>, 1: <__main__.Node object at 0x10d628d68>}\n"
     ]
    },
    {
     "data": {
      "text/plain": [
       "(1, 'Toronto')"
      ]
     },
     "execution_count": 14,
     "metadata": {},
     "output_type": "execute_result"
    }
   ],
   "source": [
    "# retrieving another item\n",
    "cache.retrieve_data(1)"
   ]
  },
  {
   "cell_type": "code",
   "execution_count": 15,
   "metadata": {},
   "outputs": [
    {
     "data": {
      "text/plain": [
       "3"
      ]
     },
     "execution_count": 15,
     "metadata": {},
     "output_type": "execute_result"
    }
   ],
   "source": [
    "cache.size"
   ]
  },
  {
   "cell_type": "code",
   "execution_count": 16,
   "metadata": {},
   "outputs": [
    {
     "name": "stdout",
     "output_type": "stream",
     "text": [
      "{2: <__main__.Node object at 0x10d628198>, 4: <__main__.Node object at 0x10d6289b0>, 1: <__main__.Node object at 0x10d628d68>}\n",
      "The linked list:\n",
      "1 Toronto\n",
      "4 London\n",
      "2 Hong Kong\n",
      "End linked list\n"
     ]
    }
   ],
   "source": [
    "cache.viz_cache()"
   ]
  },
  {
   "cell_type": "code",
   "execution_count": 17,
   "metadata": {},
   "outputs": [
    {
     "name": "stdout",
     "output_type": "stream",
     "text": [
      "{4: <__main__.Node object at 0x10d6289b0>, 1: <__main__.Node object at 0x10d628d68>, 3: <__main__.Node object at 0x10d628198>}\n"
     ]
    },
    {
     "data": {
      "text/plain": [
       "(3, 'Singapore')"
      ]
     },
     "execution_count": 17,
     "metadata": {},
     "output_type": "execute_result"
    }
   ],
   "source": [
    "# retrieving another item\n",
    "cache.retrieve_data(3)"
   ]
  },
  {
   "cell_type": "code",
   "execution_count": 18,
   "metadata": {},
   "outputs": [
    {
     "name": "stdout",
     "output_type": "stream",
     "text": [
      "{4: <__main__.Node object at 0x10d6289b0>, 1: <__main__.Node object at 0x10d628d68>, 3: <__main__.Node object at 0x10d628198>}\n",
      "The linked list:\n",
      "3 Singapore\n",
      "1 Toronto\n",
      "4 London\n",
      "End linked list\n"
     ]
    }
   ],
   "source": [
    "cache.viz_cache()"
   ]
  },
  {
   "cell_type": "code",
   "execution_count": 19,
   "metadata": {},
   "outputs": [
    {
     "data": {
      "text/plain": [
       "(1, <__main__.Node at 0x10d628d68>)"
      ]
     },
     "execution_count": 19,
     "metadata": {},
     "output_type": "execute_result"
    }
   ],
   "source": [
    "# retrieving another item this time from the cache\n",
    "cache.retrieve_data(1)"
   ]
  },
  {
   "cell_type": "code",
   "execution_count": 20,
   "metadata": {},
   "outputs": [
    {
     "name": "stdout",
     "output_type": "stream",
     "text": [
      "{4: <__main__.Node object at 0x10d6289b0>, 1: <__main__.Node object at 0x10d628d68>, 3: <__main__.Node object at 0x10d628198>}\n",
      "The linked list:\n",
      "1 Toronto\n",
      "3 Singapore\n",
      "4 London\n",
      "End linked list\n"
     ]
    }
   ],
   "source": [
    "cache.viz_cache()"
   ]
  }
 ],
 "metadata": {
  "kernelspec": {
   "display_name": "Python 3",
   "language": "python",
   "name": "python3"
  },
  "language_info": {
   "codemirror_mode": {
    "name": "ipython",
    "version": 3
   },
   "file_extension": ".py",
   "mimetype": "text/x-python",
   "name": "python",
   "nbconvert_exporter": "python",
   "pygments_lexer": "ipython3",
   "version": "3.6.1"
  }
 },
 "nbformat": 4,
 "nbformat_minor": 2
}
